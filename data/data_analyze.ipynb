{
 "cells": [
  {
   "cell_type": "code",
   "execution_count": 2,
   "metadata": {},
   "outputs": [
    {
     "name": "stdout",
     "output_type": "stream",
     "text": [
      "c:\\Apps\\anaconda3\\envs\\cm\\lib\\site-packages\\numpy\\.libs\\libopenblas64__v0.3.21-gcc_10_3_0.dll\n",
      "user32\n",
      "tzres.dll\n"
     ]
    }
   ],
   "source": [
    "import numpy as np\n",
    "import pandas as pd"
   ]
  },
  {
   "cell_type": "code",
   "execution_count": 1,
   "metadata": {},
   "outputs": [],
   "source": [
    "data_path = \"./data_csv/\""
   ]
  },
  {
   "cell_type": "code",
   "execution_count": 13,
   "metadata": {},
   "outputs": [],
   "source": [
    "# 유기동물_데이터.csv 읽어오기\n",
    "df = pd.read_csv(data_path + '유기동물_데이터.csv', encoding='utf-8')"
   ]
  },
  {
   "cell_type": "code",
   "execution_count": 11,
   "metadata": {},
   "outputs": [
    {
     "name": "stdout",
     "output_type": "stream",
     "text": [
      "['백색' '회백색' '황백색' '흑황백색' '흑백색' '흑황색' '황색' '흑색' '삼색' '흑회색' '황회색' '회색' '백황색'\n",
      " '갈색' '백갈색' '청색' '회황색' '갈백색' '검백색' '흑회백색' '아이보리색' '흑갈백색' '녹황색' '흑갈색' '황록색'\n",
      " '검정색' '회녹색' '회황백색']\n",
      "28\n"
     ]
    }
   ],
   "source": [
    "# hairColor열의 데이터 종류 확인\n",
    "hair_color_data = df['hairColor'].value_counts()\n",
    "# csv 파일로 저장\n",
    "hair_color_data.to_csv(data_path + 'hair_color_data.csv', encoding='utf-8-sig')\n",
    "\n",
    "hair_color_unique = df['hairColor'].unique()\n",
    "print(hair_color_unique)\n",
    "print(len(hair_color_unique))"
   ]
  },
  {
   "cell_type": "code",
   "execution_count": 14,
   "metadata": {},
   "outputs": [
    {
     "name": "stdout",
     "output_type": "stream",
     "text": [
      "['프렌치불독' '말티즈' '랙돌 믹스' '먼치킨' '믹스' '코리안숏헤어' '토끼' '진도' '허스키' '햄스터' '닥스훈트'\n",
      " '포메라이언' '불독' '비숑프리제' '페르시안' '퍼그' '시츄' '닭' '시바' '웰시코기' '슈나우져' '잉글리쉬세터'\n",
      " '푸들' '삽살개' '요크셔테리어' '치와와' '미니어쳐슈나우저' '러시안블루' '아메리칸불리' '비글' '리트리버' '랙돌'\n",
      " '페르시안 믹스' '스피츠' '아메리칸숏헤어 믹스' '고슴도치' '킹찰스스파니엘' '왕관앵무' '이탈리안그레이하운드' '오브차카'\n",
      " '미니핀' '앙고라' '진도 믹스' '풍산' '보더콜리' '스코티쉬폴드' '스피츠 믹스' '거위' '울프독' '말티즈 믹스'\n",
      " '사랑앵무' '포메라이언 믹스' '페키니즈' '사모예드' '도베르만' '케니스펜더' '셔틀랜드쉽독' '리트리버 믹스' '케인크로소'\n",
      " '도고아르헨티노' '라이카' '뱅갈' '푸들 믹스' '코카스파니엘 믹스' '청계' '아메리칸컬 믹스' '브리티쉬숏헤어' '기러기'\n",
      " '아메리칸숏헤어' '세퍼드' '도사' '그레이트덴' '코카스파니엘' '보스턴테리어' '시바 믹스' '말라' '베들링턴테리어'\n",
      " '차우차우' '황금계' '복서' '염소' '동경견' '치와와 믹스' '포인터' '스코티쉬폴드 믹스' '오리' '스핑크스 믹스'\n",
      " '아이리시 세터' '브룩스킹스네이크' '저빌' '앵무새' '샴' '슈가글라이더' '코리안숏헤어 믹스' '보더콜리 믹스'\n",
      " '먼치킨 믹스' '엑죠틱숏헤어' '기니피그' '스핑크스' '스코티쉬스트레이트' '페터데일테일러' '그린칙코뉴어앵무' '프레리도그'\n",
      " nan '슈나우져 믹스' '불독 믹스' '닥스훈트 믹스' '비숑프리제 믹스' '사모예드 믹스' '말라뮤트' '잭러셀테리어'\n",
      " '스탠다드푸들' '노르웨이숲 믹스']\n",
      "113\n"
     ]
    }
   ],
   "source": [
    "# species열의 데이터 종류 확인\n",
    "species_data = df['species'].value_counts()\n",
    "# csv 파일로 저장\n",
    "species_data.to_csv(data_path + 'species_data.csv', encoding='utf-8-sig')\n",
    "\n",
    "species_unique = df['species'].unique()\n",
    "print(species_unique)\n",
    "print(len(species_unique))"
   ]
  },
  {
   "cell_type": "code",
   "execution_count": null,
   "metadata": {},
   "outputs": [],
   "source": [
    "base_url = \"http://www.daejeon.go.kr/FileUpload/ANI/\"\n",
    "urls = df['url'].tolist()"
   ]
  },
  {
   "cell_type": "code",
   "execution_count": 28,
   "metadata": {},
   "outputs": [],
   "source": [
    "# 각 열의 도메인 확인\n",
    "def get_unique_df(df):\n",
    "    dic = {}\n",
    "    for c in df.columns:\n",
    "        col = df[c]\n",
    "        col = col.drop_duplicates(keep='first')\n",
    "        dic[c] = col\n",
    "    return dic\n",
    "\n",
    "# 확인하고 싶은 열들\n",
    "labels = ['adoptionStatusCd', 'age', 'classification', 'foundPlace', 'gender', 'gu', 'hairColor', 'species', 'weight']\n",
    "dic_unique = get_unique_df(df.get(labels))"
   ]
  },
  {
   "cell_type": "code",
   "execution_count": 35,
   "metadata": {},
   "outputs": [],
   "source": [
    "# 열별로 unique한 값들을 추출하여 csv로 저장\n",
    "for k in dic_unique.keys():\n",
    "    dic_unique[k].to_csv(data_path + 'unique/{}.csv'.format(k), index=False)"
   ]
  }
 ],
 "metadata": {
  "kernelspec": {
   "display_name": "Python 3",
   "language": "python",
   "name": "python3"
  },
  "language_info": {
   "codemirror_mode": {
    "name": "ipython",
    "version": 3
   },
   "file_extension": ".py",
   "mimetype": "text/x-python",
   "name": "python",
   "nbconvert_exporter": "python",
   "pygments_lexer": "ipython3",
   "version": "3.8.17"
  },
  "orig_nbformat": 4
 },
 "nbformat": 4,
 "nbformat_minor": 2
}
