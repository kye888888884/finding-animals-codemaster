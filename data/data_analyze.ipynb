{
 "cells": [
  {
   "cell_type": "code",
   "execution_count": 1,
   "metadata": {},
   "outputs": [
    {
     "name": "stdout",
     "output_type": "stream",
     "text": [
      "c:\\Apps\\anaconda3\\envs\\cm\\lib\\site-packages\\numpy\\.libs\\libopenblas64__v0.3.21-gcc_10_3_0.dll\n",
      "user32\n",
      "tzres.dll\n"
     ]
    }
   ],
   "source": [
    "import numpy as np\n",
    "import pandas as pd"
   ]
  },
  {
   "cell_type": "code",
   "execution_count": 9,
   "metadata": {},
   "outputs": [],
   "source": [
    "# 유기동물_데이터.csv 읽어오기\n",
    "df = pd.read_csv('./data/유기동물_데이터.csv', encoding='utf-8')"
   ]
  },
  {
   "cell_type": "code",
   "execution_count": 8,
   "metadata": {},
   "outputs": [
    {
     "name": "stdout",
     "output_type": "stream",
     "text": [
      "hairColor\n",
      "백색       700\n",
      "황백색      470\n",
      "황색       312\n",
      "흑백색      211\n",
      "흑황색      205\n",
      "회백색      136\n",
      "흑색        91\n",
      "삼색        89\n",
      "흑황백색      50\n",
      "회색        26\n",
      "백갈색       21\n",
      "갈색        18\n",
      "백황색       13\n",
      "갈백색       12\n",
      "검백색       10\n",
      "흑회색        6\n",
      "흑갈색        5\n",
      "회황색        4\n",
      "황회색        2\n",
      "흑갈백색       2\n",
      "흑회백색       2\n",
      "아이보리색      2\n",
      "회황백색       2\n",
      "녹황색        1\n",
      "청색         1\n",
      "황록색        1\n",
      "검정색        1\n",
      "회녹색        1\n",
      "Name: count, dtype: int64\n"
     ]
    }
   ],
   "source": [
    "# hairColor열의 데이터 종류 확인\n",
    "# print(df['hairColor'].unique())\n",
    "hair_color_data = df['hairColor'].value_counts()\n",
    "print(hair_color_data)\n",
    "# csv 파일로 저장\n",
    "hair_color_data.to_csv('./data/hair_color_data.csv', encoding='utf-8-sig')"
   ]
  },
  {
   "cell_type": "code",
   "execution_count": null,
   "metadata": {},
   "outputs": [],
   "source": []
  },
  {
   "cell_type": "code",
   "execution_count": 10,
   "metadata": {},
   "outputs": [
    {
     "name": "stdout",
     "output_type": "stream",
     "text": [
      "species\n",
      "믹스          823\n",
      "코리안숏헤어      364\n",
      "푸들          154\n",
      "말티즈         153\n",
      "진도          132\n",
      "           ... \n",
      "킹찰스스파니엘       1\n",
      "오리            1\n",
      "스핑크스 믹스       1\n",
      "미니어쳐슈나우저      1\n",
      "노르웨이숲 믹스      1\n",
      "Name: count, Length: 113, dtype: int64\n"
     ]
    }
   ],
   "source": [
    "# species열의 데이터 종류 확인\n",
    "species_data = df['species'].value_counts()\n",
    "print(species_data)\n",
    "# csv 파일로 저장\n",
    "species_data.to_csv('./data/species_data.csv', encoding='utf-8-sig')"
   ]
  },
  {
   "cell_type": "code",
   "execution_count": null,
   "metadata": {},
   "outputs": [],
   "source": [
    "base_url = \"http://www.daejeon.go.kr/FileUpload/ANI/\"\n",
    "urls = df['url'].tolist()"
   ]
  }
 ],
 "metadata": {
  "kernelspec": {
   "display_name": "Python 3",
   "language": "python",
   "name": "python3"
  },
  "language_info": {
   "codemirror_mode": {
    "name": "ipython",
    "version": 3
   },
   "file_extension": ".py",
   "mimetype": "text/x-python",
   "name": "python",
   "nbconvert_exporter": "python",
   "pygments_lexer": "ipython3",
   "version": "3.8.17"
  },
  "orig_nbformat": 4
 },
 "nbformat": 4,
 "nbformat_minor": 2
}
