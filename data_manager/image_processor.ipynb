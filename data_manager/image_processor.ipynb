{
 "cells": [
  {
   "cell_type": "code",
   "execution_count": 2,
   "metadata": {},
   "outputs": [],
   "source": [
    "from rembg import remove\n",
    "from PIL import Image"
   ]
  },
  {
   "cell_type": "code",
   "execution_count": 3,
   "metadata": {},
   "outputs": [],
   "source": [
    "base_path = './pictures/'"
   ]
  },
  {
   "cell_type": "code",
   "execution_count": 10,
   "metadata": {},
   "outputs": [],
   "source": [
    "num = 41493\n",
    "input = Image.open(base_path + f'{num}.jpg') # load image\n",
    "# 배경 제거 강도는 낮게\n",
    "output = remove(input, bgcolor=(0, 0, 0, 255), alpha_matting_foreground_threshold=10) # run\n",
    "output = output.convert('RGB')\n",
    "output.save(f'pictures_rembg/{num}.jpg') # save image"
   ]
  },
  {
   "cell_type": "code",
   "execution_count": 21,
   "metadata": {},
   "outputs": [],
   "source": [
    "haircolors = {\n",
    "        'colorWhite': \"흰색\",\n",
    "        'colorBlack': \"검은색\",\n",
    "        'colorBrown': \"갈색\",\n",
    "        'colorYellow': \"황색\",\n",
    "        'colorGray': \"회색\",\n",
    "        'colorOther': \"기타\",\n",
    "    }"
   ]
  }
 ],
 "metadata": {
  "kernelspec": {
   "display_name": "cm",
   "language": "python",
   "name": "python3"
  },
  "language_info": {
   "codemirror_mode": {
    "name": "ipython",
    "version": 3
   },
   "file_extension": ".py",
   "mimetype": "text/x-python",
   "name": "python",
   "nbconvert_exporter": "python",
   "pygments_lexer": "ipython3",
   "version": "3.8.17"
  },
  "orig_nbformat": 4
 },
 "nbformat": 4,
 "nbformat_minor": 2
}
