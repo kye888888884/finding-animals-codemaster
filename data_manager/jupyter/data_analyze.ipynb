{
 "cells": [
  {
   "cell_type": "code",
   "execution_count": 1,
   "metadata": {},
   "outputs": [
    {
     "name": "stdout",
     "output_type": "stream",
     "text": [
      "c:\\Apps\\anaconda3\\envs\\cm\\lib\\site-packages\\numpy\\.libs\\libopenblas64__v0.3.21-gcc_10_3_0.dll\n",
      "user32\n",
      "tzres.dll\n"
     ]
    }
   ],
   "source": [
    "import numpy as np\n",
    "import pandas as pd"
   ]
  },
  {
   "cell_type": "code",
   "execution_count": 7,
   "metadata": {},
   "outputs": [],
   "source": [
    "data_path = \"./data_csv/\""
   ]
  },
  {
   "cell_type": "code",
   "execution_count": 14,
   "metadata": {},
   "outputs": [],
   "source": [
    "# 유기동물_데이터.csv 읽어오기\n",
    "df = pd.read_csv(data_path + '유기동물_데이터.csv', encoding='utf-8')"
   ]
  },
  {
   "cell_type": "code",
   "execution_count": 15,
   "metadata": {},
   "outputs": [],
   "source": [
    "# 각 열의 도메인 확인\n",
    "def get_unique_df(df):\n",
    "    dic = {}\n",
    "    for c in df.columns:\n",
    "        col = df[c]\n",
    "        col = col.drop_duplicates(keep='first')\n",
    "        dic[c] = col\n",
    "    return dic\n",
    "\n",
    "# 확인하고 싶은 열들\n",
    "labels = ['adoptionStatusCd', 'age', 'classification', 'foundPlace', 'gender', 'gu', 'hairColor', 'species', 'weight']\n",
    "dic_unique = get_unique_df(df.get(labels))"
   ]
  },
  {
   "cell_type": "code",
   "execution_count": 16,
   "metadata": {},
   "outputs": [],
   "source": [
    "# 열별로 unique한 값들을 추출하여 csv로 저장\n",
    "for k in dic_unique.keys():\n",
    "    dic_unique[k].to_csv(data_path + 'unique/{}.csv'.format(k), index=False)"
   ]
  },
  {
   "cell_type": "code",
   "execution_count": 18,
   "metadata": {},
   "outputs": [
    {
     "name": "stdout",
     "output_type": "stream",
     "text": [
      "50.0 0.0\n"
     ]
    }
   ],
   "source": [
    "# 최댓값, 최솟값 출력\n",
    "print(df['weight'].max(), df['weight'].min())"
   ]
  }
 ],
 "metadata": {
  "kernelspec": {
   "display_name": "Python 3",
   "language": "python",
   "name": "python3"
  },
  "language_info": {
   "codemirror_mode": {
    "name": "ipython",
    "version": 3
   },
   "file_extension": ".py",
   "mimetype": "text/x-python",
   "name": "python",
   "nbconvert_exporter": "python",
   "pygments_lexer": "ipython3",
   "version": "3.8.17"
  },
  "orig_nbformat": 4
 },
 "nbformat": 4,
 "nbformat_minor": 2
}
