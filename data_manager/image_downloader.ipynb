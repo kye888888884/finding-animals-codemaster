{
 "cells": [
  {
   "cell_type": "code",
   "execution_count": 2,
   "metadata": {},
   "outputs": [],
   "source": [
    "import pandas as pd\n",
    "import numpy as np"
   ]
  },
  {
   "cell_type": "code",
   "execution_count": 4,
   "metadata": {},
   "outputs": [],
   "source": [
    "load_path = '../app/main/data/'\n",
    "load_filename = 'animals_data.csv'"
   ]
  },
  {
   "cell_type": "code",
   "execution_count": 5,
   "metadata": {},
   "outputs": [
    {
     "data": {
      "text/plain": [
       "Index(['Unnamed: 0', 'adoptionStatusCd', 'age', 'animalSeq', 'classification',\n",
       "       'fileNm', 'filePath', 'foundPlace', 'gender', 'gu', 'hairColor',\n",
       "       'hitCnt', 'memo', 'modDtTm', 'regDtTm', 'regId', 'rescueDate',\n",
       "       'species', 'weight', 'colorWhite', 'colorBlack', 'colorBrown',\n",
       "       'colorYellow', 'colorGray', 'colorOther', 'isMix'],\n",
       "      dtype='object')"
      ]
     },
     "execution_count": 5,
     "metadata": {},
     "output_type": "execute_result"
    }
   ],
   "source": [
    "data = pd.read_csv(load_path + load_filename)\n",
    "data.columns"
   ]
  },
  {
   "cell_type": "code",
   "execution_count": 6,
   "metadata": {},
   "outputs": [],
   "source": [
    "img_base_url = \"http://www.daejeon.go.kr/FileUpload/ANI/\"\n",
    "dst = \"./pictures/\""
   ]
  },
  {
   "cell_type": "code",
   "execution_count": 7,
   "metadata": {},
   "outputs": [],
   "source": [
    "import urllib.request\n",
    "import ssl\n",
    "ssl._create_default_https_context = ssl._create_unverified_context"
   ]
  },
  {
   "cell_type": "code",
   "execution_count": 8,
   "metadata": {},
   "outputs": [
    {
     "name": "stdout",
     "output_type": "stream",
     "text": [
      "2991/2991\r"
     ]
    }
   ],
   "source": [
    "list_seq = []\n",
    "for i in range(len(data)):\n",
    "    src = img_base_url + str(data[\"filePath\"][i])\n",
    "    filename = dst + str(data[\"animalSeq\"][i]) + \".jpg\"\n",
    "    try:\n",
    "        urllib.request.urlretrieve(src, filename)\n",
    "        list_seq.append(data[\"animalSeq\"][i])\n",
    "    except:\n",
    "        continue\n",
    "    print(str(i+1) + \"/\" + str(len(data)), end=\"\\r\")\n",
    "# 리스트 저장\n",
    "with open(\"list_seq.txt\", \"w\") as f:\n",
    "    for i in list_seq:\n",
    "        f.write(str(i)+\"\\n\")"
   ]
  }
 ],
 "metadata": {
  "kernelspec": {
   "display_name": "cm",
   "language": "python",
   "name": "python3"
  },
  "language_info": {
   "codemirror_mode": {
    "name": "ipython",
    "version": 3
   },
   "file_extension": ".py",
   "mimetype": "text/x-python",
   "name": "python",
   "nbconvert_exporter": "python",
   "pygments_lexer": "ipython3",
   "version": "3.8.17"
  },
  "orig_nbformat": 4
 },
 "nbformat": 4,
 "nbformat_minor": 2
}
