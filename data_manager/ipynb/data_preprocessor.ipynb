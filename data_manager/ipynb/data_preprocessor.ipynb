{
 "cells": [
  {
   "cell_type": "code",
   "execution_count": 1,
   "metadata": {},
   "outputs": [],
   "source": [
    "import pandas as pd\n",
    "import numpy as np"
   ]
  },
  {
   "cell_type": "code",
   "execution_count": 2,
   "metadata": {},
   "outputs": [],
   "source": [
    "load_path = '../data/'\n",
    "save_path = '../../app/main/data/'\n",
    "load_filename = 'animals_raw_data.csv'\n",
    "save_filename = 'animals_data.csv'"
   ]
  },
  {
   "cell_type": "code",
   "execution_count": 3,
   "metadata": {},
   "outputs": [],
   "source": [
    "df = pd.read_csv(load_path + save_filename)"
   ]
  },
  {
   "cell_type": "code",
   "execution_count": 5,
   "metadata": {},
   "outputs": [
    {
     "data": {
      "text/plain": [
       "status\n",
       "7     1188\n",
       "4      900\n",
       "5      347\n",
       "6      296\n",
       "2      199\n",
       "1       25\n",
       "10      17\n",
       "3        9\n",
       "9        5\n",
       "11       3\n",
       "8        1\n",
       "12       1\n",
       "Name: count, dtype: int64"
      ]
     },
     "execution_count": 5,
     "metadata": {},
     "output_type": "execute_result"
    }
   ],
   "source": [
    "df['status'].value_counts()"
   ]
  },
  {
   "cell_type": "code",
   "execution_count": 45,
   "metadata": {},
   "outputs": [],
   "source": [
    "# df에서 species열의 값이 unique한 행만 추출\n",
    "df_species = df.drop_duplicates(subset=['species'], keep='first')\n",
    "df_species = df_species[['species', 'classification']]"
   ]
  },
  {
   "cell_type": "code",
   "execution_count": 46,
   "metadata": {},
   "outputs": [],
   "source": [
    "df_species.to_csv(save_filename, encoding='utf-8-sig', index=False)"
   ]
  },
  {
   "cell_type": "code",
   "execution_count": 5,
   "metadata": {},
   "outputs": [
    {
     "data": {
      "text/plain": [
       "array(['흑황색', '황백색', '회색', '황색', '백색', '흑백색', '삼색', '흑황', '흑황백색',\n",
       "       '갈색, 백색', '흑·백', '갈색', '회백색', '흑색', '흑회색', '황회색', '황', '백황', '백',\n",
       "       '노란색', '백갈색', '파랑색', '흑갈색', '회황색', '갈•백', '백검', '검', '검백', '초코색',\n",
       "       '흑회백색', '아이보리', '갈·백', '흑·갈·백', '회·백', '갈,백색', '흑？백', '녹황색',\n",
       "       '흑,갈색', '갈？백', '회？백', '황백', '흑,갈,백', '청색', '흑갈백', '밤색', '갈백', '흑백',\n",
       "       '검은색', '갈,백', '회백', '황록색', '검정색', '백황색', '검백색', '회녹색', '회황백색',\n",
       "       '갈백색'], dtype=object)"
      ]
     },
     "execution_count": 5,
     "metadata": {},
     "output_type": "execute_result"
    }
   ],
   "source": [
    "df['hairColor'].unique()"
   ]
  },
  {
   "cell_type": "code",
   "execution_count": 24,
   "metadata": {},
   "outputs": [],
   "source": [
    "def set_haircolor(df):\n",
    "    color_dict = {\n",
    "        'colorWhite': ['백'],\n",
    "        'colorBlack': ['검', '흑'],\n",
    "        'colorBrown': ['갈', '초코', '밤'],\n",
    "        'colorYellow': ['노', '황'],\n",
    "        'colorGray': ['회', '은'],\n",
    "    }\n",
    "\n",
    "    for k in color_dict.keys():\n",
    "        df[k] = 0\n",
    "    df['colorOther'] = 1\n",
    "\n",
    "    for key, colors in color_dict.items():\n",
    "        for color in colors:\n",
    "            df.loc[df['hairColor'].notnull() & df['hairColor'].str.contains(color), key] = 1\n",
    "            df.loc[df['hairColor'].notnull() & df['hairColor'].str.contains(color), 'colorOther'] = 0\n",
    "    \n",
    "    return df\n",
    "\n",
    "def split_mix(df):\n",
    "    # 값이 0인 isMix열 추가\n",
    "    df['isMix'] = 0\n",
    "\n",
    "    # species열에 '믹스'가 포함될 경우 isMix열을 1로 변경\n",
    "    df.loc[df['species'].notnull() & df['species'].str.contains('믹스'), 'isMix'] = 1\n",
    "    # species열에서 '믹스'를 제거\n",
    "    df['species'] = df['species'].str.replace(' 믹스', '')\n",
    "    df['species'] = df['species'].str.replace('믹스', '')\n",
    "\n",
    "    return df"
   ]
  },
  {
   "cell_type": "code",
   "execution_count": 32,
   "metadata": {},
   "outputs": [],
   "source": [
    "df = set_haircolor(df)\n",
    "df = split_mix(df)"
   ]
  },
  {
   "cell_type": "code",
   "execution_count": 35,
   "metadata": {},
   "outputs": [
    {
     "data": {
      "text/plain": [
       "array(['', '웰시코기', '페르시안', '요크셔테리어', '말티즈', '푸들', '잭러셀테리어', '코리안숏헤어',\n",
       "       '러시안블루', '슈나우저', '진도', '치와와', '메인쿤', '먼치킨', '불독', '프렌치불독', '포메라이언',\n",
       "       '랙돌', '토끼', '허스키', '햄스터', '닥스훈트', '비숑프리제', '퍼그', '시츄', '닭', '시바',\n",
       "       '슈나우져', '잉글리쉬세터', '삽살개', '미니어쳐슈나우저', '아메리칸불리', '비글', '리트리버', '스피츠',\n",
       "       '아메리칸숏헤어', '고슴도치', '사모예드', '킹찰스스파니엘', '왕관앵무', '이탈리안그레이하운드', '오브차카',\n",
       "       '미니핀', '앙고라', '풍산', '보더콜린', '스코티쉬폴드', '거위', '코리안숏 헤어', '울프독',\n",
       "       '사랑앵무', '페키니즈', '도고아르헨티노', '코리안쇼헤어', '뱅갈', '친칠라', '보스턴테리어',\n",
       "       '셔틀랜드쉽독', '도베르만', '케니스펜더', '케인크로소', '라이카', '코카스파니엘', '보더콜리', '청계',\n",
       "       '아메리칸컬', '브리티쉬숏헤어', '기러기', '세퍼드', '도사', '그레이트덴', '말라', '베들링턴테리어',\n",
       "       '차우차우', '풍산개', '황금계', '복서', '염소', '거북이', '샴', '스탠다드푸들', '모란앵무',\n",
       "       '아비시니안', '말라뮤트', '불테리어', '올드잉글리쉬 쉽독', '동경견', '포인터', '오리', '스핑크스',\n",
       "       '아이리시 세터', '브룩스킹스네이크', '미니메추리', '발리네즈', '저빌', '앵무새', '세퍼트',\n",
       "       '슈가글라이더', '엑죠틱숏헤어', '기니피그', '스코티쉬스트레이트', '페터데일테일러', '그린칙코뉴어앵무',\n",
       "       '막스', '프렌치북독', '프레리도그', '노르웨이숲'], dtype=object)"
      ]
     },
     "execution_count": 35,
     "metadata": {},
     "output_type": "execute_result"
    }
   ],
   "source": [
    "df['species'].unique()"
   ]
  },
  {
   "cell_type": "code",
   "execution_count": 34,
   "metadata": {},
   "outputs": [],
   "source": [
    "# csv로 저장, 인코딩 방식은 utf-8-sig\n",
    "df.to_csv(save_path + save_filename, encoding='utf-8-sig')"
   ]
  }
 ],
 "metadata": {
  "kernelspec": {
   "display_name": "cm",
   "language": "python",
   "name": "python3"
  },
  "language_info": {
   "codemirror_mode": {
    "name": "ipython",
    "version": 3
   },
   "file_extension": ".py",
   "mimetype": "text/x-python",
   "name": "python",
   "nbconvert_exporter": "python",
   "pygments_lexer": "ipython3",
   "version": "3.8.17"
  },
  "orig_nbformat": 4
 },
 "nbformat": 4,
 "nbformat_minor": 2
}
