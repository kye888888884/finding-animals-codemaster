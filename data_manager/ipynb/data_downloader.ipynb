{
 "cells": [
  {
   "cell_type": "code",
   "execution_count": 79,
   "metadata": {},
   "outputs": [],
   "source": [
    "import requests\n",
    "import key # Service key"
   ]
  },
  {
   "cell_type": "code",
   "execution_count": 83,
   "metadata": {},
   "outputs": [],
   "source": [
    "url = 'http://apis.data.go.kr/6300000/animalDaejeonService/animalDaejeonList'\n",
    "PAGE_NUM = 100\n",
    "classes = [\n",
    "    \"adoptionStatusCd\",\n",
    "    \"age\",\n",
    "    \"animalSeq\",\n",
    "    \"classification\",\n",
    "    \"fileNm\",\n",
    "    \"filePath\",\n",
    "    \"foundPlace\",\n",
    "    \"gender\",\n",
    "    \"gu\",\n",
    "    \"hairColor\",\n",
    "    \"hitCnt\",\n",
    "    \"memo\",\n",
    "    \"modDtTm\",\n",
    "    \"regDtTm\",\n",
    "    \"regId\",\n",
    "    \"rescueDate\",\n",
    "    \"species\",\n",
    "    \"weight\",\n",
    "];"
   ]
  },
  {
   "cell_type": "code",
   "execution_count": 48,
   "metadata": {},
   "outputs": [],
   "source": [
    "import json\n",
    "import xmltodict\n",
    "\n",
    "def response_to_dict(response) -> dict:\n",
    "    jsonString = response.content.decode('utf-8')\n",
    "    jsonString = json.dumps(xmltodict.parse(jsonString), indent=4)\n",
    "    jsonObj = json.loads(jsonString)\n",
    "    return jsonObj\n",
    "\n",
    "def get_response_dict(page: int) -> dict:\n",
    "    response = requests.get(url, params={'serviceKey' : key.SERVICE_KEY, 'pageNo' : page, 'numOfRows' : PAGE_NUM})\n",
    "    data = response_to_dict(response)\n",
    "    return data"
   ]
  },
  {
   "cell_type": "code",
   "execution_count": 88,
   "metadata": {},
   "outputs": [],
   "source": [
    "def get_count():\n",
    "    data = get_response_dict(1)\n",
    "    total_count = data['ServiceResult']['msgHeader']['totalCount']\n",
    "    total_page = data['ServiceResult']['msgHeader']['totalPage']\n",
    "    return int(total_count), int(total_page)\n",
    "\n",
    "def get_animal_list(page):\n",
    "    data = get_response_dict(page)\n",
    "    li = data[\"ServiceResult\"][\"MsgBody\"][\"items\"]\n",
    "    return li"
   ]
  },
  {
   "cell_type": "code",
   "execution_count": 98,
   "metadata": {},
   "outputs": [],
   "source": [
    "import pandas as pd\n",
    "import numpy as np\n",
    "\n",
    "def get_dataframe():\n",
    "    df = pd.DataFrame(columns=classes)\n",
    "    count, page = get_count()\n",
    "    for i in range(1, page+1):\n",
    "        animal_list = get_animal_list(i)\n",
    "        for animal in animal_list:\n",
    "            li = []\n",
    "            for c in classes:\n",
    "                try:\n",
    "                    li.append(animal[c])\n",
    "                except:\n",
    "                    li.append(None)\n",
    "            df.loc[len(df)] = li\n",
    "            print(f\"{i}/{page}\", end='\\r')\n",
    "    return df"
   ]
  },
  {
   "cell_type": "code",
   "execution_count": 99,
   "metadata": {},
   "outputs": [
    {
     "name": "stdout",
     "output_type": "stream",
     "text": [
      "30/30\r"
     ]
    }
   ],
   "source": [
    "# csv 저장\n",
    "df = get_dataframe()\n",
    "df.to_csv('./data/animals_data.csv', index=False, encoding='utf-8-sig')"
   ]
  }
 ],
 "metadata": {
  "kernelspec": {
   "display_name": "cm",
   "language": "python",
   "name": "python3"
  },
  "language_info": {
   "codemirror_mode": {
    "name": "ipython",
    "version": 3
   },
   "file_extension": ".py",
   "mimetype": "text/x-python",
   "name": "python",
   "nbconvert_exporter": "python",
   "pygments_lexer": "ipython3",
   "version": "3.8.17"
  },
  "orig_nbformat": 4
 },
 "nbformat": 4,
 "nbformat_minor": 2
}
